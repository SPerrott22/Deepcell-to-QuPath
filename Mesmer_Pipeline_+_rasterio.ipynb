{
  "nbformat": 4,
  "nbformat_minor": 0,
  "metadata": {
    "colab": {
      "provenance": []
    },
    "kernelspec": {
      "name": "python3",
      "display_name": "Python 3"
    },
    "language_info": {
      "name": "python"
    }
  },
  "cells": [
    {
      "cell_type": "markdown",
      "source": [
        "Foreword: You need at least 75 GB of RAM available, so if your runtime only gives you e.g. 12.5 system RAM, please reconnect until you're awarded 85 GB"
      ],
      "metadata": {
        "id": "wV4q0PYv31bt"
      }
    },
    {
      "cell_type": "markdown",
      "source": [
        "# Necessary Imports"
      ],
      "metadata": {
        "id": "jrz1cvFD0WnJ"
      }
    },
    {
      "cell_type": "code",
      "source": [
        "# unfortunately, we must reinstall deepcell every runtime\n",
        "!pip install deepcell -q"
      ],
      "metadata": {
        "id": "TIz62wWX0cUZ"
      },
      "execution_count": null,
      "outputs": []
    },
    {
      "cell_type": "code",
      "source": [
        "from deepcell.applications import Mesmer\n",
        "from deepcell.utils.plot_utils import create_rgb_image\n",
        "from deepcell.utils.plot_utils import make_outline_overlay"
      ],
      "metadata": {
        "id": "IGq03lX205mf"
      },
      "execution_count": null,
      "outputs": []
    },
    {
      "cell_type": "code",
      "source": [
        "from google.colab import drive\n",
        "from skimage.io import imread\n",
        "import tensorflow as tf\n",
        "import numpy as np\n",
        "import matplotlib.pyplot as plt"
      ],
      "metadata": {
        "id": "0RhWdPl_8hpa"
      },
      "execution_count": null,
      "outputs": []
    },
    {
      "cell_type": "code",
      "source": [
        "# you should have the ome tiff in your Google Drive\n",
        "drive.mount('/content/drive')"
      ],
      "metadata": {
        "id": "L4JK11iL0_lY",
        "colab": {
          "base_uri": "https://localhost:8080/"
        },
        "outputId": "d1aaa9dc-0b5d-4f64-e391-4d20d7d7ab9c"
      },
      "execution_count": null,
      "outputs": [
        {
          "output_type": "stream",
          "name": "stdout",
          "text": [
            "Mounted at /content/drive\n"
          ]
        }
      ]
    },
    {
      "cell_type": "code",
      "source": [
        "# replace the file path with your image's\n",
        "file_path = \"/content/drive/MyDrive/Colab Files/RAM13_003-Brain_131199-2.ome.tif\""
      ],
      "metadata": {
        "id": "9GfyRW6N1I51"
      },
      "execution_count": null,
      "outputs": []
    },
    {
      "cell_type": "markdown",
      "source": [
        "# Optional: check GPU is accessible"
      ],
      "metadata": {
        "id": "qpWiCNN63ROu"
      }
    },
    {
      "cell_type": "code",
      "source": [
        "!nvidia-smi"
      ],
      "metadata": {
        "id": "9-X8SWZQ3Vq4"
      },
      "execution_count": null,
      "outputs": []
    },
    {
      "cell_type": "code",
      "source": [
        "# let's check the GPU is on (it should output '/device:GPU:0').\n",
        "# If it isn't check that you have enough compute units left or\n",
        "# click Runtime -> Change runtime type -> select GPU A100 or V100\n",
        "tf.test.gpu_device_name()"
      ],
      "metadata": {
        "id": "fwYR_lEZ3QPZ"
      },
      "execution_count": null,
      "outputs": []
    },
    {
      "cell_type": "markdown",
      "source": [
        "# Import and Pre-Process Image and Create RGB of DAPI"
      ],
      "metadata": {
        "id": "ALpqmAlq3bnK"
      }
    },
    {
      "cell_type": "code",
      "source": [
        "image = imread(file_path)\n",
        "\n",
        "# we must add an extra axis to fit the parameter requirements\n",
        "# the extra axis is the batch, but we won't care about that\n",
        "image = np.expand_dims(image, axis=0)\n",
        "image.shape"
      ],
      "metadata": {
        "id": "eRdD83AC1NXN"
      },
      "execution_count": null,
      "outputs": []
    },
    {
      "cell_type": "code",
      "source": [
        "# at least create the DAPI image. The other channels are commented\n",
        "# out for efficiency, but you may display them just as you display\n",
        "# rgb_image1 if you so choose.\n",
        "\n",
        "# rgb_image8 = create_rgb_image(image[:,:,:,7:], channel_colors=['blue'])\n",
        "# rgb_image7 = create_rgb_image(image[:,:,:,6:7], channel_colors=['blue'])\n",
        "# rgb_image6 = create_rgb_image(image[:,:,:,5:6], channel_colors=['blue'])\n",
        "# rgb_image5 = create_rgb_image(image[:,:,:,4:5], channel_colors=['blue'])\n",
        "# rgb_image4 = create_rgb_image(image[:,:,:,3:4], channel_colors=['blue'])\n",
        "# rgb_image3 = create_rgb_image(image[:,:,:,2:3], channel_colors=['blue'])\n",
        "# rgb_image2 = create_rgb_image(image[:,:,:,1:2], channel_colors=['green'])\n",
        "rgb_image1 = create_rgb_image(image[:,:,:,0:1], channel_colors=['blue'])"
      ],
      "metadata": {
        "id": "NjHF1SZg1Rnc"
      },
      "execution_count": null,
      "outputs": []
    },
    {
      "cell_type": "markdown",
      "source": [
        "# optional: visualize dapi"
      ],
      "metadata": {
        "id": "HLOufAGP20GA"
      }
    },
    {
      "cell_type": "code",
      "source": [
        "# Let's look at the DAPI\n",
        "# select channel index for displaying\n",
        "idx = 0\n",
        "\n",
        "# plot the data\n",
        "fig, ax = plt.subplots(1, 1, figsize=(15, 15))\n",
        "ax.imshow(rgb_image1[idx, ...])\n",
        "\n",
        "ax.set_title('DAPI')\n",
        "\n",
        "plt.show()"
      ],
      "metadata": {
        "id": "2bvINkc21upM"
      },
      "execution_count": null,
      "outputs": []
    },
    {
      "cell_type": "markdown",
      "source": [
        "# Predict"
      ],
      "metadata": {
        "id": "hdk3jc3J3m0V"
      }
    },
    {
      "cell_type": "code",
      "source": [
        "# perform nuclear segmentation\n",
        "# this usually takes 14 minutes and will use up 75 GB of RAM\n",
        "\n",
        "app = Mesmer()\n",
        "labeled_image = app.predict(image[:,:,:,0:2], image_mpp=app.model_mpp, compartment='nuclear')"
      ],
      "metadata": {
        "id": "XZVrVFZQ1z8P"
      },
      "execution_count": null,
      "outputs": []
    },
    {
      "cell_type": "markdown",
      "source": [
        "# Optional: Make RGB Overlay and Visualize Overlay"
      ],
      "metadata": {
        "id": "vTsdm8Vr3pr9"
      }
    },
    {
      "cell_type": "code",
      "source": [
        "# make the RGB overlay for optional visualization\n",
        "overlay_data_nuc_big = make_outline_overlay(rgb_data=rgb_image1, predictions=labeled_image)"
      ],
      "metadata": {
        "id": "krsl84U62C-l"
      },
      "execution_count": null,
      "outputs": []
    },
    {
      "cell_type": "code",
      "source": [
        "# optional\n",
        "# display the overlay\n",
        "# select index for displaying\n",
        "idx = 0\n",
        "\n",
        "# plot the data\n",
        "fig, ax = plt.subplots(1, 1, figsize=(15, 15))\n",
        "ax.imshow(overlay_data_nuc_big[idx, ...])\n",
        "ax.set_title('Nuclear Predictions')\n",
        "plt.show()"
      ],
      "metadata": {
        "id": "bzJb3plr2C2T"
      },
      "execution_count": null,
      "outputs": []
    },
    {
      "cell_type": "markdown",
      "source": [
        "# Save Mask as Tiff to Google Drive"
      ],
      "metadata": {
        "id": "52wTfIlD3t-M"
      }
    },
    {
      "cell_type": "code",
      "source": [
        "# we don't need the extra batch and channel dimensions for the mask\n",
        "squeezed_array_big = np.squeeze(labeled_image[0,:,:,:])"
      ],
      "metadata": {
        "id": "i4lombXr2OJw"
      },
      "execution_count": null,
      "outputs": []
    },
    {
      "cell_type": "code",
      "source": [
        "# optional: if you want to view the mask\n",
        "binary_mask_big = (squeezed_array_big > 0).astype(int)\n",
        "\n",
        "plt.imshow(binary_mask_big, cmap='hot', interpolation='nearest')\n",
        "plt.colorbar()\n",
        "plt.show()"
      ],
      "metadata": {
        "id": "s59Y3JIk2SVC"
      },
      "execution_count": null,
      "outputs": []
    },
    {
      "cell_type": "code",
      "source": [
        "# optiona: if you want to see how many cells detected\n",
        "max_value = np.max(squeezed_array_big)\n",
        "print(max_value)"
      ],
      "metadata": {
        "id": "-54jCtyr2WLb"
      },
      "execution_count": null,
      "outputs": []
    },
    {
      "cell_type": "code",
      "source": [
        "# save the mask\n",
        "import skimage.io as io\n",
        "io.imsave(\"ome_mask_2D.tif\", squeezed_array_big, plugin=\"tifffile\", bigtiff=True)\n",
        "\n",
        "# upload to Google Drive\n",
        "!cp ome_mask_2D.tif \"/content/drive/My Drive/Colab Files\""
      ],
      "metadata": {
        "id": "jeBAxC3B2cX_"
      },
      "execution_count": null,
      "outputs": []
    },
    {
      "cell_type": "markdown",
      "source": [
        "#ALPHA TESTING ZONE BELOW, MAY NOT WORK ON CLOUD"
      ],
      "metadata": {
        "id": "cHay9aE479WQ"
      }
    },
    {
      "cell_type": "code",
      "source": [
        "!pip install rasterio"
      ],
      "metadata": {
        "colab": {
          "base_uri": "https://localhost:8080/"
        },
        "id": "TI3QEz4J8FJQ",
        "outputId": "9837918b-41d8-4289-8d7c-50291fd82c78"
      },
      "execution_count": null,
      "outputs": [
        {
          "output_type": "stream",
          "name": "stdout",
          "text": [
            "Looking in indexes: https://pypi.org/simple, https://us-python.pkg.dev/colab-wheels/public/simple/\n",
            "Requirement already satisfied: rasterio in /usr/local/lib/python3.10/dist-packages (1.3.7)\n",
            "Requirement already satisfied: affine in /usr/local/lib/python3.10/dist-packages (from rasterio) (2.4.0)\n",
            "Requirement already satisfied: attrs in /usr/local/lib/python3.10/dist-packages (from rasterio) (23.1.0)\n",
            "Requirement already satisfied: certifi in /usr/local/lib/python3.10/dist-packages (from rasterio) (2022.12.7)\n",
            "Requirement already satisfied: click>=4.0 in /usr/local/lib/python3.10/dist-packages (from rasterio) (8.1.3)\n",
            "Requirement already satisfied: cligj>=0.5 in /usr/local/lib/python3.10/dist-packages (from rasterio) (0.7.2)\n",
            "Requirement already satisfied: numpy>=1.18 in /usr/local/lib/python3.10/dist-packages (from rasterio) (1.22.4)\n",
            "Requirement already satisfied: snuggs>=1.4.1 in /usr/local/lib/python3.10/dist-packages (from rasterio) (1.4.7)\n",
            "Requirement already satisfied: click-plugins in /usr/local/lib/python3.10/dist-packages (from rasterio) (1.1.1)\n",
            "Requirement already satisfied: setuptools in /usr/local/lib/python3.10/dist-packages (from rasterio) (67.7.2)\n",
            "Requirement already satisfied: pyparsing>=2.1.6 in /usr/local/lib/python3.10/dist-packages (from snuggs>=1.4.1->rasterio) (3.0.9)\n"
          ]
        }
      ]
    },
    {
      "cell_type": "code",
      "source": [
        "!pip install paquo"
      ],
      "metadata": {
        "colab": {
          "base_uri": "https://localhost:8080/"
        },
        "id": "o4hY2UosBoVp",
        "outputId": "138dbd46-cef2-4cb6-d180-b2e0848f2087"
      },
      "execution_count": null,
      "outputs": [
        {
          "output_type": "stream",
          "name": "stdout",
          "text": [
            "Looking in indexes: https://pypi.org/simple, https://us-python.pkg.dev/colab-wheels/public/simple/\n",
            "Collecting paquo\n",
            "  Downloading paquo-0.6.1-py3-none-any.whl (62 kB)\n",
            "\u001b[2K     \u001b[90m━━━━━━━━━━━━━━━━━━━━━━━━━━━━━━━━━━━━━━━━\u001b[0m \u001b[32m62.5/62.5 kB\u001b[0m \u001b[31m1.9 MB/s\u001b[0m eta \u001b[36m0:00:00\u001b[0m\n",
            "\u001b[?25hCollecting dynaconf!=3.1.0,>=3 (from paquo)\n",
            "  Downloading dynaconf-3.1.12-py2.py3-none-any.whl (211 kB)\n",
            "\u001b[2K     \u001b[90m━━━━━━━━━━━━━━━━━━━━━━━━━━━━━━━━━━━━━━━\u001b[0m \u001b[32m211.8/211.8 kB\u001b[0m \u001b[31m7.7 MB/s\u001b[0m eta \u001b[36m0:00:00\u001b[0m\n",
            "\u001b[?25hCollecting JPype1>=1.0.1 (from paquo)\n",
            "  Downloading JPype1-1.4.1-cp310-cp310-manylinux_2_12_x86_64.manylinux2010_x86_64.whl (465 kB)\n",
            "\u001b[2K     \u001b[90m━━━━━━━━━━━━━━━━━━━━━━━━━━━━━━━━━━━━━━\u001b[0m \u001b[32m465.3/465.3 kB\u001b[0m \u001b[31m12.6 MB/s\u001b[0m eta \u001b[36m0:00:00\u001b[0m\n",
            "\u001b[?25hRequirement already satisfied: shapely in /usr/local/lib/python3.10/dist-packages (from paquo) (2.0.1)\n",
            "Requirement already satisfied: packaging in /usr/local/lib/python3.10/dist-packages (from paquo) (23.1)\n",
            "Requirement already satisfied: numpy>=1.14 in /usr/local/lib/python3.10/dist-packages (from shapely->paquo) (1.22.4)\n",
            "Installing collected packages: JPype1, dynaconf, paquo\n",
            "Successfully installed JPype1-1.4.1 dynaconf-3.1.12 paquo-0.6.1\n"
          ]
        }
      ]
    },
    {
      "cell_type": "markdown",
      "source": [
        "You need to make sure QuPath.exe is in usr/bin or else [check Paquo documentation](https://paquo.readthedocs.io/en/latest/configuration.html#configuration) about making it accessible to Python. Note: the measurements 1, 2, 3 below are all random placeholders for now. This takes about 20 seconds."
      ],
      "metadata": {
        "id": "jktWEmx7vqA0"
      }
    },
    {
      "cell_type": "code",
      "source": [
        "from paquo.projects import QuPathProject\n",
        "import numpy as np\n",
        "from tifffile import imread\n",
        "\n",
        "import rasterio\n",
        "from rasterio import features\n",
        "import shapely\n",
        "from shapely.geometry import Point, Polygon\n",
        "\n",
        "def mask_to_polygons_layer(mask):\n",
        "    all_polygons = []\n",
        "    for shape, value in features.shapes(mask.astype(np.int16), mask=(mask >0), transform=rasterio.Affine(1.0, 0, 0, 0, 1.0, 0)):\n",
        "        all_polygons.append(shapely.geometry.shape(shape))\n",
        "    return all_polygons\n",
        "\n",
        "mask = imread(\"./RAM13_003-Brain_131199-2.ome_mask.tif\")\n",
        "polygons = mask_to_polygons_layer(mask)\n",
        "test_measurements = np.random.randint(0, 100, size=(len(polygons), 5)).astype(float)\n",
        "\n",
        "with QuPathProject('./bigproject/test.qpproj', mode = \"x\") as qp:\n",
        "    entry = qp.add_image('RAM13_003-Brain_131199-2.ome.tif')\n",
        "    hierarchy = entry.hierarchy\n",
        "    with hierarchy.no_autoflush():\n",
        "        for i, polygon in enumerate(polygons):\n",
        "            detection_measurements = {\n",
        "                \"Measurement 1\": test_measurements[i, 0],\n",
        "                \"Measurement 2\": test_measurements[i, 1],\n",
        "                \"Measurement 3\": test_measurements[i, 2],\n",
        "            }\n",
        "            detection = hierarchy.add_detection(polygon, measurements = detection_measurements)\n",
        "            detection.name = f\"Detection {i}\""
      ],
      "metadata": {
        "colab": {
          "base_uri": "https://localhost:8080/",
          "height": 400
        },
        "id": "630jcKzh7eqr",
        "outputId": "979b0f01-f9a8-4d3a-9d0f-980305b3bf72"
      },
      "execution_count": null,
      "outputs": [
        {
          "output_type": "error",
          "ename": "ValueError",
          "evalue": "ignored",
          "traceback": [
            "\u001b[0;31m---------------------------------------------------------------------------\u001b[0m",
            "\u001b[0;31mValueError\u001b[0m                                Traceback (most recent call last)",
            "\u001b[0;32m<ipython-input-16-db2254323ade>\u001b[0m in \u001b[0;36m<cell line: 1>\u001b[0;34m()\u001b[0m\n\u001b[0;32m----> 1\u001b[0;31m \u001b[0;32mfrom\u001b[0m \u001b[0mpaquo\u001b[0m\u001b[0;34m.\u001b[0m\u001b[0mprojects\u001b[0m \u001b[0;32mimport\u001b[0m \u001b[0mQuPathProject\u001b[0m\u001b[0;34m\u001b[0m\u001b[0;34m\u001b[0m\u001b[0m\n\u001b[0m\u001b[1;32m      2\u001b[0m \u001b[0;32mimport\u001b[0m \u001b[0mnumpy\u001b[0m \u001b[0;32mas\u001b[0m \u001b[0mnp\u001b[0m\u001b[0;34m\u001b[0m\u001b[0;34m\u001b[0m\u001b[0m\n\u001b[1;32m      3\u001b[0m \u001b[0;34m\u001b[0m\u001b[0m\n\u001b[1;32m      4\u001b[0m \u001b[0;32mimport\u001b[0m \u001b[0mrasterio\u001b[0m\u001b[0;34m\u001b[0m\u001b[0;34m\u001b[0m\u001b[0m\n\u001b[1;32m      5\u001b[0m \u001b[0;32mfrom\u001b[0m \u001b[0mrasterio\u001b[0m \u001b[0;32mimport\u001b[0m \u001b[0mfeatures\u001b[0m\u001b[0;34m\u001b[0m\u001b[0;34m\u001b[0m\u001b[0m\n",
            "\u001b[0;32m/usr/local/lib/python3.10/dist-packages/paquo/projects.py\u001b[0m in \u001b[0;36m<module>\u001b[0;34m\u001b[0m\n\u001b[1;32m     27\u001b[0m \u001b[0;34m\u001b[0m\u001b[0m\n\u001b[1;32m     28\u001b[0m \u001b[0;32mfrom\u001b[0m \u001b[0mpaquo\u001b[0m \u001b[0;32mimport\u001b[0m \u001b[0msettings\u001b[0m\u001b[0;34m\u001b[0m\u001b[0;34m\u001b[0m\u001b[0m\n\u001b[0;32m---> 29\u001b[0;31m \u001b[0;32mfrom\u001b[0m \u001b[0mpaquo\u001b[0m\u001b[0;34m.\u001b[0m\u001b[0m_logging\u001b[0m \u001b[0;32mimport\u001b[0m \u001b[0mget_logger\u001b[0m\u001b[0;34m\u001b[0m\u001b[0;34m\u001b[0m\u001b[0m\n\u001b[0m\u001b[1;32m     30\u001b[0m \u001b[0;32mfrom\u001b[0m \u001b[0mpaquo\u001b[0m\u001b[0;34m.\u001b[0m\u001b[0m_logging\u001b[0m \u001b[0;32mimport\u001b[0m \u001b[0mredirect\u001b[0m\u001b[0;34m\u001b[0m\u001b[0;34m\u001b[0m\u001b[0m\n\u001b[1;32m     31\u001b[0m \u001b[0;32mfrom\u001b[0m \u001b[0mpaquo\u001b[0m\u001b[0;34m.\u001b[0m\u001b[0m_utils\u001b[0m \u001b[0;32mimport\u001b[0m \u001b[0mmake_backup_filename\u001b[0m\u001b[0;34m\u001b[0m\u001b[0;34m\u001b[0m\u001b[0m\n",
            "\u001b[0;32m/usr/local/lib/python3.10/dist-packages/paquo/_logging.py\u001b[0m in \u001b[0;36m<module>\u001b[0;34m\u001b[0m\n\u001b[1;32m     11\u001b[0m \u001b[0;32mfrom\u001b[0m \u001b[0mtyping\u001b[0m \u001b[0;32mimport\u001b[0m \u001b[0mTuple\u001b[0m\u001b[0;34m\u001b[0m\u001b[0;34m\u001b[0m\u001b[0m\n\u001b[1;32m     12\u001b[0m \u001b[0;34m\u001b[0m\u001b[0m\n\u001b[0;32m---> 13\u001b[0;31m \u001b[0;32mfrom\u001b[0m \u001b[0mpaquo\u001b[0m\u001b[0;34m.\u001b[0m\u001b[0mjava\u001b[0m \u001b[0;32mimport\u001b[0m \u001b[0mByteArrayOutputStream\u001b[0m\u001b[0;34m\u001b[0m\u001b[0;34m\u001b[0m\u001b[0m\n\u001b[0m\u001b[1;32m     14\u001b[0m \u001b[0;32mfrom\u001b[0m \u001b[0mpaquo\u001b[0m\u001b[0;34m.\u001b[0m\u001b[0mjava\u001b[0m \u001b[0;32mimport\u001b[0m \u001b[0mLogManager\u001b[0m\u001b[0;34m\u001b[0m\u001b[0;34m\u001b[0m\u001b[0m\n\u001b[1;32m     15\u001b[0m \u001b[0;32mfrom\u001b[0m \u001b[0mpaquo\u001b[0m\u001b[0;34m.\u001b[0m\u001b[0mjava\u001b[0m \u001b[0;32mimport\u001b[0m \u001b[0mPrintStream\u001b[0m\u001b[0;34m\u001b[0m\u001b[0;34m\u001b[0m\u001b[0m\n",
            "\u001b[0;32m/usr/local/lib/python3.10/dist-packages/paquo/java.py\u001b[0m in \u001b[0;36m<module>\u001b[0;34m\u001b[0m\n\u001b[1;32m     30\u001b[0m \u001b[0;34m\u001b[0m\u001b[0m\n\u001b[1;32m     31\u001b[0m \u001b[0;31m# ensure the jvm is running\u001b[0m\u001b[0;34m\u001b[0m\u001b[0;34m\u001b[0m\u001b[0m\n\u001b[0;32m---> 32\u001b[0;31m \u001b[0mqupath_version\u001b[0m \u001b[0;34m=\u001b[0m \u001b[0mstart_jvm\u001b[0m\u001b[0;34m(\u001b[0m\u001b[0mfinder_kwargs\u001b[0m\u001b[0;34m=\u001b[0m\u001b[0mto_kwargs\u001b[0m\u001b[0;34m(\u001b[0m\u001b[0msettings\u001b[0m\u001b[0;34m)\u001b[0m\u001b[0;34m)\u001b[0m\u001b[0;34m\u001b[0m\u001b[0;34m\u001b[0m\u001b[0m\n\u001b[0m\u001b[1;32m     33\u001b[0m \u001b[0;32mif\u001b[0m \u001b[0mqupath_version\u001b[0m \u001b[0;32mis\u001b[0m \u001b[0;32mNone\u001b[0m\u001b[0;34m:\u001b[0m\u001b[0;34m\u001b[0m\u001b[0;34m\u001b[0m\u001b[0m\n\u001b[1;32m     34\u001b[0m     \u001b[0;31m# let's not exit for now but warn the user:\u001b[0m\u001b[0;34m\u001b[0m\u001b[0;34m\u001b[0m\u001b[0m\n",
            "\u001b[0;32m/usr/local/lib/python3.10/dist-packages/paquo/jpype_backend.py\u001b[0m in \u001b[0;36mstart_jvm\u001b[0;34m(finder, finder_kwargs)\u001b[0m\n\u001b[1;32m    196\u001b[0m \u001b[0;34m\u001b[0m\u001b[0m\n\u001b[1;32m    197\u001b[0m     \u001b[0;31m# For the time being, we assume qupath is our JVM of choice\u001b[0m\u001b[0;34m\u001b[0m\u001b[0;34m\u001b[0m\u001b[0m\n\u001b[0;32m--> 198\u001b[0;31m     \u001b[0mapp_dir\u001b[0m\u001b[0;34m,\u001b[0m \u001b[0mruntime_dir\u001b[0m\u001b[0;34m,\u001b[0m \u001b[0mjvm_path\u001b[0m\u001b[0;34m,\u001b[0m \u001b[0mjvm_options\u001b[0m \u001b[0;34m=\u001b[0m \u001b[0mfinder\u001b[0m\u001b[0;34m(\u001b[0m\u001b[0;34m**\u001b[0m\u001b[0mfinder_kwargs\u001b[0m\u001b[0;34m)\u001b[0m\u001b[0;34m\u001b[0m\u001b[0;34m\u001b[0m\u001b[0m\n\u001b[0m\u001b[1;32m    199\u001b[0m \u001b[0;34m\u001b[0m\u001b[0m\n\u001b[1;32m    200\u001b[0m     \u001b[0mpatched_env\u001b[0m\u001b[0;34m:\u001b[0m \u001b[0mCallable\u001b[0m\u001b[0;34m[\u001b[0m\u001b[0;34m[\u001b[0m\u001b[0;34m]\u001b[0m\u001b[0;34m,\u001b[0m \u001b[0mContextManager\u001b[0m\u001b[0;34m[\u001b[0m\u001b[0mAny\u001b[0m\u001b[0;34m]\u001b[0m\u001b[0;34m]\u001b[0m\u001b[0;34m\u001b[0m\u001b[0;34m\u001b[0m\u001b[0m\n",
            "\u001b[0;32m/usr/local/lib/python3.10/dist-packages/paquo/jpype_backend.py\u001b[0m in \u001b[0;36mfind_qupath\u001b[0;34m(qupath_dir, qupath_search_dirs, qupath_search_dir_regex, qupath_search_conda, qupath_prefer_conda, java_opts, jvm_path_override, **_kwargs)\u001b[0m\n\u001b[1;32m    109\u001b[0m             \u001b[0;32mreturn\u001b[0m \u001b[0minfo\u001b[0m\u001b[0;34m\u001b[0m\u001b[0;34m\u001b[0m\u001b[0m\n\u001b[1;32m    110\u001b[0m     \u001b[0;32melse\u001b[0m\u001b[0;34m:\u001b[0m\u001b[0;34m\u001b[0m\u001b[0;34m\u001b[0m\u001b[0m\n\u001b[0;32m--> 111\u001b[0;31m         \u001b[0;32mraise\u001b[0m \u001b[0mValueError\u001b[0m\u001b[0;34m(\u001b[0m\u001b[0;34m\"no valid qupath installation found\"\u001b[0m\u001b[0;34m)\u001b[0m\u001b[0;34m\u001b[0m\u001b[0;34m\u001b[0m\u001b[0m\n\u001b[0m\u001b[1;32m    112\u001b[0m \u001b[0;34m\u001b[0m\u001b[0m\n\u001b[1;32m    113\u001b[0m \u001b[0;34m\u001b[0m\u001b[0m\n",
            "\u001b[0;31mValueError\u001b[0m: no valid qupath installation found"
          ]
        }
      ]
    },
    {
      "cell_type": "code",
      "source": [],
      "metadata": {
        "id": "ik99qt-v75bq"
      },
      "execution_count": null,
      "outputs": []
    }
  ]
}