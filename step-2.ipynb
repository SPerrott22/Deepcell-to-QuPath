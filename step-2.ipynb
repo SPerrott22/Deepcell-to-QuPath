{
 "cells": [
  {
   "cell_type": "markdown",
   "metadata": {},
   "source": [
    "You need to make sure QuPath.exe is in usr/bin or else [check Paquo documentation](https://paquo.readthedocs.io/en/latest/configuration.html#configuration) about making it accessible to Python. Make sure to pip install paquo and rasterio. Note: the measurements 1, 2, 3 below are all random placeholders for now. This takes about 20 seconds."
   ]
  },
  {
   "cell_type": "code",
   "execution_count": null,
   "metadata": {},
   "outputs": [],
   "source": [
    "from paquo.projects import QuPathProject\n",
    "import numpy as np\n",
    "from tifffile import imread\n",
    "import rasterio\n",
    "from rasterio import features\n",
    "import shapely\n",
    "from shapely.geometry import Point, Polygon"
   ]
  },
  {
   "cell_type": "code",
   "execution_count": null,
   "metadata": {},
   "outputs": [],
   "source": [
    "\n",
    "def mask_to_polygons_layer(mask):\n",
    "\tall_polygons = []\n",
    "\tfor shape, value in features.shapes(mask.astype(np.int16), mask=(mask >0), transform=rasterio.Affine(1.0, 0, 0, 0, 1.0, 0)):\n",
    "\t\tall_polygons.append(shapely.geometry.shape(shape))\n",
    "\treturn all_polygons"
   ]
  },
  {
   "cell_type": "code",
   "execution_count": null,
   "metadata": {},
   "outputs": [],
   "source": [
    "\n",
    "mask = imread(\"./RAM13_003-Brain_131199-2.ome_mask.tif\")\n",
    "polygons = mask_to_polygons_layer(mask)\n",
    "test_measurements = np.random.randint(0, 100, size=(len(polygons), 5)).astype(float)"
   ]
  },
  {
   "cell_type": "code",
   "execution_count": null,
   "metadata": {},
   "outputs": [],
   "source": [
    "\n",
    "with QuPathProject('./folder_name/project.qpproj', mode = \"x\") as qp:\n",
    "\tentry = qp.add_image('RAM13_003-Brain_131199-2.ome.tif')\n",
    "\thierarchy = entry.hierarchy\n",
    "\twith hierarchy.no_autoflush():\n",
    "\tfor i, polygon in enumerate(polygons):\n",
    "\t\tdetection_measurements = {\n",
    "\t\t\"Measurement 1\": test_measurements[i, 0],\n",
    "\t\t\"Measurement 2\": test_measurements[i, 1],\n",
    "\t\t\"Measurement 3\": test_measurements[i, 2],\n",
    "\t\t}\n",
    "\tdetection = hierarchy.add_detection(polygon, measurements = detection_measurements)\n",
    "\tdetection.name = f\"Detection {i}\""
   ]
  }
 ],
 "metadata": {
  "language_info": {
   "name": "python"
  }
 },
 "nbformat": 4,
 "nbformat_minor": 2
}
