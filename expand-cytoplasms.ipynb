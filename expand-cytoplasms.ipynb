{
 "cells": [
  {
   "cell_type": "code",
   "execution_count": 1,
   "metadata": {},
   "outputs": [],
   "source": [
    "import skimage.io as io\n",
    "import tensorflow as tf\n",
    "import numpy as np"
   ]
  },
  {
   "cell_type": "code",
   "execution_count": 4,
   "metadata": {},
   "outputs": [],
   "source": [
    "# Load Files\n",
    "\n",
    "# load directly from tif\n",
    "# mask_path = \"DAPI-mask.tif\"\n",
    "# mask = io.imread(mask_path)\n",
    "\n",
    "# load from saved np array\n",
    "mask = np.load('mask.npy')"
   ]
  },
  {
   "cell_type": "code",
   "execution_count": 5,
   "metadata": {},
   "outputs": [],
   "source": [
    "# create pseudo-cytoplasms using constant expansion factor\n",
    "from skimage.segmentation import expand_labels\n",
    "expanded = expand_labels(mask, distance=10)\n",
    "np.save('/u/home/s/sperrott/project-hugowill/project-sperrott/deepcell/expanded.npy', expanded)\n",
    "# expanded = np.load('/u/home/s/sperrott/project-hugowill/project-sperrott/deepcell/expanded.npy')"
   ]
  },
  {
   "cell_type": "code",
   "execution_count": 8,
   "metadata": {},
   "outputs": [
    {
     "name": "stdout",
     "output_type": "stream",
     "text": [
      "True\n"
     ]
    }
   ],
   "source": [
    "# print(np.array_equal(np.sort(np.unique(mask)), np.sort(np.unique(expanded))))"
   ]
  },
  {
   "cell_type": "code",
   "execution_count": 2,
   "metadata": {},
   "outputs": [
    {
     "name": "stdout",
     "output_type": "stream",
     "text": [
      "2.8.4\n"
     ]
    }
   ],
   "source": [
    "# save cytoplasm mask tiff\n",
    "# io.imsave(\"/u/home/s/sperrott/project-hugowill/project-sperrott/deepcell/data/masks/ome_cytoplasms_2D.tif\", expanded, plugin=\"tifffile\", bigtiff=True)"
   ]
  }
 ],
 "metadata": {
  "kernelspec": {
   "display_name": "DEEPCELL",
   "language": "python",
   "name": "deepcell"
  }
 },
 "nbformat": 4,
 "nbformat_minor": 2
}
