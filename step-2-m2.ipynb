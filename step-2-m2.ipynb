{
 "cells": [
  {
   "cell_type": "markdown",
   "metadata": {},
   "source": [
    "You need to make sure QuPath.exe is in usr/bin or else [check Paquo documentation](https://paquo.readthedocs.io/en/latest/configuration.html#configuration) about making it accessible to Python. Make sure to pip install paquo and rasterio. This takes about 20 seconds."
   ]
  },
  {
   "cell_type": "code",
   "execution_count": 1,
   "metadata": {},
   "outputs": [],
   "source": [
    "from paquo.projects import QuPathProject\n",
    "import numpy as np\n",
    "# from tifffile import imread\n",
    "import rasterio\n",
    "from rasterio import features\n",
    "import shapely\n",
    "from shapely.geometry import Point, Polygon"
   ]
  },
  {
   "cell_type": "code",
   "execution_count": 36,
   "metadata": {},
   "outputs": [],
   "source": [
    "def mask_to_polygons_layer_new(mask):\n",
    "\tall_polygons = [None] * mask.max()\n",
    "\tfor shape, value in features.shapes(mask.astype(np.int32), mask=(mask >0), transform=rasterio.Affine(1.0, 0, 0, 0, 1.0, 0)):\n",
    "\t\tall_polygons[int(value - 1)] = shapely.geometry.shape(shape)\n",
    "\treturn all_polygons"
   ]
  },
  {
   "cell_type": "code",
   "execution_count": 21,
   "metadata": {},
   "outputs": [],
   "source": [
    "# nuclei_mask = imread(\"./DAPI-mask.tif\")\n",
    "# cytoplasms_mask = imread(\"./cytoplasms.tif\")\n",
    "nuclei_mask = np.load('./mask.npy')\n",
    "cytoplasms_mask = np.load('./expanded.npy')"
   ]
  },
  {
   "cell_type": "code",
   "execution_count": 37,
   "metadata": {},
   "outputs": [],
   "source": [
    "nuclei = mask_to_polygons_layer_new(nuclei_mask)\n",
    "cytoplasms = mask_to_polygons_layer_new(cytoplasms_mask)"
   ]
  },
  {
   "cell_type": "code",
   "execution_count": null,
   "metadata": {},
   "outputs": [],
   "source": [
    "# test_measurements1 = np.random.randint(0, 100, size=(len(nuclei), 3)).astype(float) # need to make real measurements later, 3 is number of columns\n",
    "# test_measurements2 = np.random.randint(0, 100, size=(len(cytoplasms), 3)).astype(float) # need to make real measurements later, 3 is number of columns"
   ]
  },
  {
   "cell_type": "code",
   "execution_count": 42,
   "metadata": {},
   "outputs": [
    {
     "name": "stderr",
     "output_type": "stream",
     "text": [
      "No matching downsample for thumbnail! This might take a long time...\n"
     ]
    },
    {
     "name": "stdout",
     "output_type": "stream",
     "text": [
      "15:51:08.281 [main] [DEBUG] qupath.lib.projects.DefaultProject - Writing project to /Volumes/HP P500/Final G6r1a QuPath/detections-regex-5/project.qpproj.tmp\n",
      "15:51:08.284 [main] [DEBUG] qupath.lib.projects.DefaultProject - Backing up existing project to /Volumes/HP P500/Final G6r1a QuPath/detections-regex-5/project.qpproj.backup\n",
      "15:51:08.284 [main] [DEBUG] qupath.lib.projects.DefaultProject - Renaming project to /Volumes/HP P500/Final G6r1a QuPath/detections-regex-5/project.qpproj\n"
     ]
    }
   ],
   "source": [
    "with QuPathProject(\"./folder-name/project.qpproj\", mode = \"x\") as qp:\n",
    "\tentry = qp.add_image('Brain.ome.tif') # replace with your image\n",
    "\thierarchy = entry.hierarchy\n",
    "\twith hierarchy.no_autoflush():\n",
    "\t\tfor i, nucleus in enumerate(nuclei):\n",
    "\t\t\tif not isinstance(nucleus, shapely.geometry.base.BaseGeometry): continue\n",
    "\t\t\telse:\n",
    "\t\t\t\tdetection = hierarchy.add_detection(nucleus)\n",
    "\t\t\t\tdetection.name = f\"Nucleus {i}\"\n",
    "\t\tfor i, cytoplasm in enumerate(cytoplasms):\n",
    "\t\t\tif not isinstance(cytoplasm, shapely.geometry.base.BaseGeometry): continue\n",
    "\t\t\telse:\n",
    "\t\t\t\tdetection = hierarchy.add_detection(cytoplasm)\n",
    "\t\t\t\tdetection.name = f\"Cytoplasm {i}\""
   ]
  }
 ],
 "metadata": {
  "kernelspec": {
   "display_name": "deepcell",
   "language": "python",
   "name": "python3"
  },
  "language_info": {
   "codemirror_mode": {
    "name": "ipython",
    "version": 3
   },
   "file_extension": ".py",
   "mimetype": "text/x-python",
   "name": "python",
   "nbconvert_exporter": "python",
   "pygments_lexer": "ipython3",
   "version": "3.8.16"
  }
 },
 "nbformat": 4,
 "nbformat_minor": 2
}
